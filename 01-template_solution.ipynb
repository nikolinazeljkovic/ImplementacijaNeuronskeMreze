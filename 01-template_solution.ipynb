{
 "cells": [
  {
   "cell_type": "markdown",
   "metadata": {},
   "source": [
    "# Implementacija Neuronske Mreže"
   ]
  },
  {
   "cell_type": "markdown",
   "metadata": {},
   "source": [
    "* Implementiraj neuronsku mrežu. \n",
    "* Mreža mora imati mehanizam za dodavanje slojeva. \n",
    "* Sloj mora imati aktivacijsku funkciju.\n",
    "* Mrežu je neophodno trenirati koristeći gradijentni spust, koristeći odgovarajuću loss (cost) funkciju.\n",
    "* Neuronska mreža mora imati metod `predict`."
   ]
  },
  {
   "cell_type": "code",
   "execution_count": 258,
   "metadata": {},
   "outputs": [],
   "source": [
    "import numpy as np\n",
    "import random\n",
    "from tensorflow.keras.datasets import mnist\n",
    "from tensorflow.keras.utils import to_categorical\n",
    "from sklearn.metrics import classification_report"
   ]
  },
  {
   "cell_type": "code",
   "execution_count": 259,
   "metadata": {},
   "outputs": [],
   "source": [
    "def tanh(x):\n",
    "    return np.tanh(x)\n",
    "\n",
    "def tanh_prime(x):\n",
    "    return 1-np.tanh(x)**2\n",
    "\n",
    "def sigmoid(x):\n",
    "    return 1.0/(1.0+np.exp(-x))\n",
    "\n",
    "def sigmoid_prime(x):\n",
    "    return sigmoid(x)*(1-sigmoid(x))"
   ]
  },
  {
   "cell_type": "code",
   "execution_count": 260,
   "metadata": {},
   "outputs": [],
   "source": [
    "def mse(y_true, y_pred):\n",
    "    return np.mean(np.power(y_true-y_pred, 2))/2\n",
    "\n",
    "def mse_prime(y_true, y_pred):\n",
    "    return (y_pred-y_true)/y_true.size"
   ]
  },
  {
   "cell_type": "code",
   "execution_count": 261,
   "metadata": {},
   "outputs": [],
   "source": [
    "class FCLayer:\n",
    "    def __init__(self, input_size, output_size, activation, activation_prime):\n",
    "        self.activation_f = activation\n",
    "        self.activation_prime_f = activation_prime\n",
    "        \n",
    "        self.w = np.random.rand(output_size, input_size) - 0.5\n",
    "        self.b = np.random.rand(output_size,1) - 0.5\n",
    "        \n",
    "        self.zj = None\n",
    "        \n",
    "        self.input = None\n",
    "        self.output = None\n",
    "\n",
    "    \n",
    "    def forward_propagation(self, input_data):\n",
    "        self.input = input_data\n",
    "        self.zj = np.dot(self.w, self.input) + self.b\n",
    "        self.output = self.activation_f(self.zj)\n",
    "        return self.activation_f(self.zj)\n",
    "\n",
    "        \n",
    "\n",
    "    def backward_propagation(self, output_error, learning_rate):\n",
    "        delta = output_error * self.activation_prime_f(self.zj)\n",
    "        w_error = np.dot(delta, self.input.T)\n",
    "        \n",
    "        self.w -= learning_rate * w_error\n",
    "        self.b -= learning_rate * output_error\n",
    "        return np.dot(self.w.T,delta)\n",
    "        "
   ]
  },
  {
   "cell_type": "code",
   "execution_count": 262,
   "metadata": {},
   "outputs": [],
   "source": [
    "class Network:\n",
    "    \n",
    "    def __init__(self):\n",
    "        self.layers = []\n",
    "        self.cost = None\n",
    "        self.cost_prime = None\n",
    "            \n",
    "    def add(self, layer):\n",
    "        self.layers.append(layer)\n",
    "        \n",
    "    def use(self, cost, cost_prime):\n",
    "        self.cost = cost\n",
    "        self.cost_prime = cost_prime\n",
    "   \n",
    "\n",
    "    def fit_gradient_descent(self, x_train, y_train, epochs, learning_rate):\n",
    "        for epoch in range(epochs):\n",
    "            i = np.random.randint(len(y_train))\n",
    "            output = x_train[i]\n",
    "            for layer in self.layers:\n",
    "                output = layer.forward_propagation(output)\n",
    "            error = self.cost_prime(y_train[i], output)\n",
    "            for layer in reversed(self.layers):\n",
    "                error = layer.backward_propagation(error, learning_rate)\n",
    "    \n",
    "    \n",
    "    def predict(self, input_data):\n",
    "        samples = len(input_data)\n",
    "        result = []\n",
    "        \n",
    "        for i in range(samples):\n",
    "            output = input_data[i]\n",
    "            for layer in self.layers:\n",
    "                output = layer.forward_propagation(output)\n",
    "            result.append(output)\n",
    "            \n",
    "        return result"
   ]
  },
  {
   "cell_type": "code",
   "execution_count": 263,
   "metadata": {},
   "outputs": [],
   "source": [
    "# load MNIST from server\n",
    "(x_train, y_train), (x_test, y_test) = mnist.load_data()\n",
    "\n",
    "# training data : 60000 samples\n",
    "# reshape and normalize input data\n",
    "x_train = x_train.reshape(60000,784,1)\n",
    "y_train = to_categorical(y_train,10)\n",
    "y_train = y_train.reshape(60000,10,1)\n",
    "\n",
    "x_test = x_test.reshape(10000,784,1)\n",
    "y_test = to_categorical(y_test,10)\n",
    "\n",
    "\n",
    "x_train = x_train.astype('float32')\n",
    "x_train /= 255\n",
    "\n",
    "x_test = x_test.astype('float32')\n",
    "x_test /= 255\n",
    "\n"
   ]
  },
  {
   "cell_type": "markdown",
   "metadata": {},
   "source": [
    "Instanciraj neuronsku mrežu, sa sigmoidnom funkciojom kao aktivacijskom funkcijom."
   ]
  },
  {
   "cell_type": "markdown",
   "metadata": {},
   "source": [
    "Za loss funkciju koristi mse, istreniraj mrežu sa learning_rate = 0.1 i 600000 epoha, kreiraj predikcije i ispiši classification report..."
   ]
  },
  {
   "cell_type": "code",
   "execution_count": 264,
   "metadata": {},
   "outputs": [],
   "source": [
    "# NN from first example\n",
    "net = Network()\n",
    "\n",
    "net.add(FCLayer(28*28, 15, sigmoid, sigmoid_prime))\n",
    "\n",
    "net.add(FCLayer(15, 10, sigmoid, sigmoid_prime))"
   ]
  },
  {
   "cell_type": "code",
   "execution_count": 265,
   "metadata": {},
   "outputs": [],
   "source": [
    "net.use(mse, mse_prime)\n",
    "net.fit_gradient_descent(x_train, y_train, epochs=600000, learning_rate=0.1)"
   ]
  },
  {
   "cell_type": "code",
   "execution_count": 266,
   "metadata": {},
   "outputs": [],
   "source": [
    "out = net.predict(x_test)"
   ]
  },
  {
   "cell_type": "code",
   "execution_count": 267,
   "metadata": {},
   "outputs": [
    {
     "name": "stdout",
     "output_type": "stream",
     "text": [
      "              precision    recall  f1-score   support\n",
      "\n",
      "           0       0.92      0.96      0.94       980\n",
      "           1       0.94      0.96      0.95      1135\n",
      "           2       0.89      0.87      0.88      1032\n",
      "           3       0.91      0.85      0.88      1010\n",
      "           4       0.90      0.90      0.90       982\n",
      "           5       0.85      0.81      0.83       892\n",
      "           6       0.91      0.93      0.92       958\n",
      "           7       0.85      0.90      0.87      1028\n",
      "           8       0.85      0.85      0.85       974\n",
      "           9       0.89      0.87      0.88      1009\n",
      "\n",
      "   micro avg       0.89      0.89      0.89     10000\n",
      "   macro avg       0.89      0.89      0.89     10000\n",
      "weighted avg       0.89      0.89      0.89     10000\n",
      " samples avg       0.89      0.89      0.89     10000\n",
      "\n"
     ]
    }
   ],
   "source": [
    "print(classification_report(y_test, to_categorical(np.argmax(np.reshape(np.array(out), (-1,10)), axis=1), 10)))"
   ]
  },
  {
   "cell_type": "markdown",
   "metadata": {},
   "source": [
    "Kreiraj mrežu komplikovanije strukture (više slojeva), istreniraj sa istim parametrima kao u prethodnom slučaju i uporedi rezultate."
   ]
  },
  {
   "cell_type": "code",
   "execution_count": 268,
   "metadata": {},
   "outputs": [],
   "source": [
    "# More complex network\n",
    "net = Network()\n",
    "\n",
    "net.add(FCLayer(28*28, 256, sigmoid, sigmoid_prime))\n",
    "\n",
    "net.add(FCLayer(256, 64, sigmoid, sigmoid_prime))\n",
    "\n",
    "net.add(FCLayer(64, 32, sigmoid, sigmoid_prime))\n",
    "\n",
    "net.add(FCLayer(32, 10, sigmoid, sigmoid_prime))"
   ]
  },
  {
   "cell_type": "code",
   "execution_count": 269,
   "metadata": {},
   "outputs": [],
   "source": [
    "net.use(mse, mse_prime)\n",
    "net.fit_gradient_descent(x_train, y_train, epochs=600000, learning_rate=0.1)"
   ]
  },
  {
   "cell_type": "code",
   "execution_count": 270,
   "metadata": {},
   "outputs": [],
   "source": [
    "out = net.predict(x_test)"
   ]
  },
  {
   "cell_type": "code",
   "execution_count": 271,
   "metadata": {},
   "outputs": [
    {
     "name": "stdout",
     "output_type": "stream",
     "text": [
      "              precision    recall  f1-score   support\n",
      "\n",
      "           0       0.96      0.98      0.97       980\n",
      "           1       0.98      0.99      0.98      1135\n",
      "           2       0.95      0.95      0.95      1032\n",
      "           3       0.95      0.95      0.95      1010\n",
      "           4       0.96      0.94      0.95       982\n",
      "           5       0.95      0.93      0.94       892\n",
      "           6       0.96      0.96      0.96       958\n",
      "           7       0.95      0.95      0.95      1028\n",
      "           8       0.94      0.95      0.94       974\n",
      "           9       0.93      0.94      0.93      1009\n",
      "\n",
      "   micro avg       0.95      0.95      0.95     10000\n",
      "   macro avg       0.95      0.95      0.95     10000\n",
      "weighted avg       0.95      0.95      0.95     10000\n",
      " samples avg       0.95      0.95      0.95     10000\n",
      "\n"
     ]
    }
   ],
   "source": [
    "print(classification_report(y_test, to_categorical(np.argmax(np.reshape(np.array(out), (-1,10)), axis=1),10)))"
   ]
  },
  {
   "cell_type": "code",
   "execution_count": null,
   "metadata": {},
   "outputs": [],
   "source": []
  }
 ],
 "metadata": {
  "kernelspec": {
   "display_name": "Python 3",
   "language": "python",
   "name": "python3"
  },
  "language_info": {
   "codemirror_mode": {
    "name": "ipython",
    "version": 3
   },
   "file_extension": ".py",
   "mimetype": "text/x-python",
   "name": "python",
   "nbconvert_exporter": "python",
   "pygments_lexer": "ipython3",
   "version": "3.8.5"
  },
  "vscode": {
   "interpreter": {
    "hash": "53e26e92eb047fac0a8b0208801dfe952f4f8952e82e087046918172140b19c2"
   }
  }
 },
 "nbformat": 4,
 "nbformat_minor": 2
}
